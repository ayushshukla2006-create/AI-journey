{
 "cells": [
  {
   "cell_type": "code",
   "execution_count": 8,
   "id": "5743a9ea-3d51-4057-a3d1-1f0a305a68da",
   "metadata": {},
   "outputs": [
    {
     "name": "stdout",
     "output_type": "stream",
     "text": [
      "19 <class 'int'>\n",
      "5.9 <class 'float'>\n",
      "Ayush <class 'str'>\n",
      "True <class 'bool'>\n",
      "HelloAyush\n",
      "Hello! My name is Ayush and I am 19 years old.\n"
     ]
    }
   ],
   "source": [
    "age = 19\n",
    "height = 5.9\n",
    "name = \"Ayush\"\n",
    "is_student = True\n",
    "\n",
    "print(age, type(age))\n",
    "print(height, type(height))\n",
    "print(name, type(name))\n",
    "print(is_student, type(is_student))\n",
    "\n",
    "print(\"Hello\" + name)\n",
    "\n",
    "print(f\"Hello! My name is {name} and I am {age} years old.\")\n",
    "\n"
   ]
  },
  {
   "cell_type": "code",
   "execution_count": null,
   "id": "f0d5a5a6-3265-4f43-92c0-164d2a6a4ac6",
   "metadata": {},
   "outputs": [],
   "source": []
  }
 ],
 "metadata": {
  "kernelspec": {
   "display_name": "Python [conda env:base] *",
   "language": "python",
   "name": "conda-base-py"
  },
  "language_info": {
   "codemirror_mode": {
    "name": "ipython",
    "version": 3
   },
   "file_extension": ".py",
   "mimetype": "text/x-python",
   "name": "python",
   "nbconvert_exporter": "python",
   "pygments_lexer": "ipython3",
   "version": "3.13.5"
  }
 },
 "nbformat": 4,
 "nbformat_minor": 5
}
