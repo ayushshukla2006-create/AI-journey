{
 "cells": [
  {
   "cell_type": "code",
   "execution_count": 13,
   "id": "3f4a37dc-655c-4a2d-a1c1-5f595cb23104",
   "metadata": {},
   "outputs": [
    {
     "name": "stdout",
     "output_type": "stream",
     "text": [
      "False\n",
      "AYUSH SHUKLA\n",
      "12\n",
      "h\n",
      "6\n",
      "Ayush Bhai\n"
     ]
    }
   ],
   "source": [
    "My_name = \"Ayush Shukla\"\n",
    "print(My_name.lower().isupper())\n",
    "print(My_name.upper())\n",
    "print(len(My_name))\n",
    "print(My_name[4])\n",
    "print(My_name.index(\"Shukla\"))\n",
    "print(My_name.replace(\"Shukla\", \"Bhai\"))\n"
   ]
  },
  {
   "cell_type": "code",
   "execution_count": 22,
   "id": "b4455483-ae2d-4832-9f43-4ffd2d34fc18",
   "metadata": {},
   "outputs": [
    {
     "name": "stdout",
     "output_type": "stream",
     "text": [
      "9\n",
      "5\n",
      "32\n",
      "3.0\n",
      "2\n",
      "4.8\n"
     ]
    }
   ],
   "source": [
    "num = -4.8\n",
    "print(4+5)\n",
    "print(9-4)\n",
    "print(8*4)\n",
    "print(9/3)\n",
    "print(56%3)\n",
    "print(abs(num))\n"
   ]
  },
  {
   "cell_type": "code",
   "execution_count": 21,
   "id": "b31eb321-02da-42f6-b959-ccb2ae96dc9c",
   "metadata": {},
   "outputs": [
    {
     "name": "stdout",
     "output_type": "stream",
     "text": [
      "235 is Great Number\n"
     ]
    }
   ],
   "source": [
    "number = 235\n",
    "print(str(number) + \" is Great Number\")"
   ]
  },
  {
   "cell_type": "code",
   "execution_count": null,
   "id": "e04a8c64-02e4-4719-bc0e-d0b2b1ff02a9",
   "metadata": {},
   "outputs": [],
   "source": []
  }
 ],
 "metadata": {
  "kernelspec": {
   "display_name": "Python [conda env:base] *",
   "language": "python",
   "name": "conda-base-py"
  },
  "language_info": {
   "codemirror_mode": {
    "name": "ipython",
    "version": 3
   },
   "file_extension": ".py",
   "mimetype": "text/x-python",
   "name": "python",
   "nbconvert_exporter": "python",
   "pygments_lexer": "ipython3",
   "version": "3.13.5"
  }
 },
 "nbformat": 4,
 "nbformat_minor": 5
}
