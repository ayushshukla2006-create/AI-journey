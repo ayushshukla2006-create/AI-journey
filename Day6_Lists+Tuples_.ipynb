{
 "cells": [
  {
   "cell_type": "code",
   "execution_count": 29,
   "id": "168250c7-6e89-48d6-9faa-eed9536436ae",
   "metadata": {},
   "outputs": [
    {
     "name": "stdout",
     "output_type": "stream",
     "text": [
      "['Red', 'Blue', 'Brown', 'Indigo', 'Black', 'White']\n",
      "['Red', 'Blue', 'Green', 'Brown', 'Indigo', 'Black', 'White']\n",
      "['Red', 'Blue', 'Green', 'Brown', 'Indigo', 'Black']\n",
      "['Red', 'Blue', 'Green', 'Brown', 'Indigo']\n",
      "0\n",
      "['Blue', 'Brown', 'Green', 'Indigo', 'Red']\n",
      "[33, 34, 47, 71, 89]\n",
      "[33, 71, 47, 89, 34]\n"
     ]
    }
   ],
   "source": [
    "colors = [\"Red\", \"Blue\", \"Brown\", \"Black\", \"Black\", \"White\"]\n",
    "num1 = [33, 71, 47, 89, 34]\n",
    "num2 = num1.copy()\n",
    "colors[3] = \"Indigo\"\n",
    "print(colors)\n",
    "colors.insert(2, \"Green\")\n",
    "print(colors)\n",
    "colors.remove(\"White\")\n",
    "print(colors)\n",
    "colors.pop()\n",
    "print(colors)\n",
    "print(colors.count(\"Black\"))\n",
    "colors.sort()\n",
    "print(colors)\n",
    "num1.sort()\n",
    "print(num1)\n",
    "print(num2)\n"
   ]
  },
  {
   "cell_type": "code",
   "execution_count": 20,
   "id": "652dfc5b-ece5-4c36-9368-7277003f71ed",
   "metadata": {},
   "outputs": [
    {
     "name": "stdout",
     "output_type": "stream",
     "text": [
      "Rasmalai\n"
     ]
    }
   ],
   "source": [
    "sweets = (\"Rasgulla\", \"Gulab Jamun\", \"Rasmalai\", \"Jalebi\")\n",
    "print(sweets[2])"
   ]
  },
  {
   "cell_type": "code",
   "execution_count": null,
   "id": "7fe25224-5c0d-4122-83cf-7390f40a0d98",
   "metadata": {},
   "outputs": [],
   "source": []
  }
 ],
 "metadata": {
  "kernelspec": {
   "display_name": "Python [conda env:base] *",
   "language": "python",
   "name": "conda-base-py"
  },
  "language_info": {
   "codemirror_mode": {
    "name": "ipython",
    "version": 3
   },
   "file_extension": ".py",
   "mimetype": "text/x-python",
   "name": "python",
   "nbconvert_exporter": "python",
   "pygments_lexer": "ipython3",
   "version": "3.13.5"
  }
 },
 "nbformat": 4,
 "nbformat_minor": 5
}
