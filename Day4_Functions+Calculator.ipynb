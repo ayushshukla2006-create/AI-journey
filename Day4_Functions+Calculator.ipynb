{
 "cells": [
  {
   "cell_type": "code",
   "execution_count": 4,
   "id": "341f3185-6433-4170-b8de-6835a9a1439b",
   "metadata": {},
   "outputs": [
    {
     "name": "stdout",
     "output_type": "stream",
     "text": [
      "390625\n",
      "33\n",
      "8\n",
      "7\n"
     ]
    }
   ],
   "source": [
    "print(pow(5, 8))\n",
    "print(max(9, 33))\n",
    "print(min(8, 20))\n",
    "print(round(6.8))"
   ]
  },
  {
   "cell_type": "code",
   "execution_count": 7,
   "id": "288a25f0-e3bd-4ecc-b377-a39a34711b69",
   "metadata": {},
   "outputs": [
    {
     "name": "stdout",
     "output_type": "stream",
     "text": [
      "5\n",
      "5\n",
      "7.0\n"
     ]
    }
   ],
   "source": [
    "from math import *\n",
    "print(floor(5.9))\n",
    "print(ceil(4.1))\n",
    "print(sqrt(49))"
   ]
  },
  {
   "cell_type": "code",
   "execution_count": 8,
   "id": "9483c725-0538-468f-bffe-57373970144d",
   "metadata": {},
   "outputs": [
    {
     "name": "stdin",
     "output_type": "stream",
     "text": [
      "Enter your name:  Ayush\n",
      "Enter your age:  19\n"
     ]
    },
    {
     "name": "stdout",
     "output_type": "stream",
     "text": [
      "Hello Ayush ! You are 19\n"
     ]
    }
   ],
   "source": [
    "name = input(\"Enter your name: \")\n",
    "age = input(\"Enter your age: \")\n",
    "print(\"Hello \" + name + \" ! You are \" + age )"
   ]
  },
  {
   "cell_type": "code",
   "execution_count": 9,
   "id": "cca07683-b383-4a7d-901a-a84e7080eb0c",
   "metadata": {},
   "outputs": [
    {
     "name": "stdin",
     "output_type": "stream",
     "text": [
      "Enter a number:  78\n",
      "Enter another number:  38.68\n"
     ]
    },
    {
     "name": "stdout",
     "output_type": "stream",
     "text": [
      "116.68\n"
     ]
    }
   ],
   "source": [
    "num1 = input(\"Enter a number: \")\n",
    "num2 = input(\"Enter another number: \")\n",
    "result = float(num1) + float(num2)\n",
    "print(result)"
   ]
  },
  {
   "cell_type": "code",
   "execution_count": null,
   "id": "d46d9dab-93d6-482d-bc36-990195adfe67",
   "metadata": {},
   "outputs": [],
   "source": []
  }
 ],
 "metadata": {
  "kernelspec": {
   "display_name": "Python [conda env:base] *",
   "language": "python",
   "name": "conda-base-py"
  },
  "language_info": {
   "codemirror_mode": {
    "name": "ipython",
    "version": 3
   },
   "file_extension": ".py",
   "mimetype": "text/x-python",
   "name": "python",
   "nbconvert_exporter": "python",
   "pygments_lexer": "ipython3",
   "version": "3.13.5"
  }
 },
 "nbformat": 4,
 "nbformat_minor": 5
}
