{
 "cells": [
  {
   "cell_type": "code",
   "execution_count": 1,
   "id": "39ddee95-bbba-46c9-a056-3655fa6b1c7d",
   "metadata": {},
   "outputs": [
    {
     "name": "stdin",
     "output_type": "stream",
     "text": [
      "Enter a color:  red\n",
      "Enter a plural noun:  Violets\n",
      "Enter a sweet:  rasmalai\n"
     ]
    },
    {
     "name": "stdout",
     "output_type": "stream",
     "text": [
      "Roses are red\n",
      "Violets are blue\n",
      "I love rasmalai\n"
     ]
    }
   ],
   "source": [
    "color = input(\"Enter a color: \")\n",
    "plural_noun = input(\"Enter a plural noun: \")\n",
    "sweets = input(\"Enter a sweet: \")\n",
    "\n",
    "print(\"Roses are \" + color)\n",
    "print(plural_noun + \" are blue\")\n",
    "print(\"I love \" + sweets)\n"
   ]
  },
  {
   "cell_type": "code",
   "execution_count": 9,
   "id": "d059dd81-3187-4a72-85d2-0c4c9e6b0706",
   "metadata": {},
   "outputs": [
    {
     "name": "stdout",
     "output_type": "stream",
     "text": [
      "Golden\n",
      "['Violet', 'Green', 'Golden']\n",
      "['Red', 'Violet', 'Green', 'Golden', 'Black', 'Rasmalai', 'Gulab Jamun', 'Kaju Katli']\n",
      "['Red', 'Violet', 'Green', 'Golden', 'Black', 'Rasmalai', 'Gulab Jamun', 'Kaju Katli', 'Silver']\n"
     ]
    }
   ],
   "source": [
    "Colors = [\"Red\", \"Violet\", \"Green\", \"Blue\", \"Black\"]\n",
    "Sweets = [\"Rasmalai\", \"Gulab Jamun\", \"Kaju Katli\"]\n",
    "Colors[3] = \"Golden\"\n",
    "print(Colors[3])\n",
    "print(Colors[1:4])\n",
    "Colors.extend(Sweets)\n",
    "print(Colors)\n",
    "Colors.append(\"Silver\")\n",
    "print(Colors)\n"
   ]
  },
  {
   "cell_type": "code",
   "execution_count": null,
   "id": "f82fbece-8c52-43c6-929e-f7b1c0a98b8d",
   "metadata": {},
   "outputs": [],
   "source": []
  }
 ],
 "metadata": {
  "kernelspec": {
   "display_name": "Python [conda env:base] *",
   "language": "python",
   "name": "conda-base-py"
  },
  "language_info": {
   "codemirror_mode": {
    "name": "ipython",
    "version": 3
   },
   "file_extension": ".py",
   "mimetype": "text/x-python",
   "name": "python",
   "nbconvert_exporter": "python",
   "pygments_lexer": "ipython3",
   "version": "3.13.5"
  }
 },
 "nbformat": 4,
 "nbformat_minor": 5
}
